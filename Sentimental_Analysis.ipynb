{
  "nbformat": 4,
  "nbformat_minor": 0,
  "metadata": {
    "colab": {
      "provenance": [],
      "include_colab_link": true
    },
    "kernelspec": {
      "name": "python3",
      "display_name": "Python 3"
    },
    "language_info": {
      "name": "python"
    }
  },
  "cells": [
    {
      "cell_type": "markdown",
      "metadata": {
        "id": "view-in-github",
        "colab_type": "text"
      },
      "source": [
        "<a href=\"https://colab.research.google.com/github/SuryanshYagnik/git-hub-project/blob/main/Sentimental_Analysis.ipynb\" target=\"_parent\"><img src=\"https://colab.research.google.com/assets/colab-badge.svg\" alt=\"Open In Colab\"/></a>"
      ]
    },
    {
      "cell_type": "markdown",
      "source": [
        "# **In this Assignment you will perform sentiment analysis on twitter's dataset using Logistic Regression**"
      ],
      "metadata": {
        "id": "4qD1fuV7jD0l"
      }
    },
    {
      "cell_type": "code",
      "execution_count": null,
      "metadata": {
        "id": "hSBkKkade7Jy",
        "outputId": "a8c51826-8a5d-43dc-a9b0-01ec91cb8f1a",
        "colab": {
          "base_uri": "https://localhost:8080/"
        }
      },
      "outputs": [
        {
          "output_type": "stream",
          "name": "stderr",
          "text": [
            "[nltk_data] Downloading package stopwords to /root/nltk_data...\n",
            "[nltk_data]   Package stopwords is already up-to-date!\n"
          ]
        }
      ],
      "source": [
        "import numpy as np # linear algebra\n",
        "import pandas as pd # data processing\n",
        "\n",
        "#For Preprocessing\n",
        "import re    # RegEx for removing non-letter characters\n",
        "import nltk  #natural language processing\n",
        "nltk.download(\"stopwords\")\n",
        "from nltk.corpus import stopwords\n",
        "from nltk.stem.porter import *\n",
        "\n",
        "\n",
        "#import any necessary packages if required\n",
        "import matplotlib.pyplot as plt\n",
        "from sklearn.model_selection import train_test_split\n",
        "from sklearn.feature_extraction.text import CountVectorizer\n",
        "from sklearn.linear_model import LogisticRegression\n",
        "from sklearn.metrics import confusion_matrix\n",
        "import seaborn as sns\n",
        "from sklearn.metrics import precision_score, recall_score, accuracy_score"
      ]
    },
    {
      "cell_type": "markdown",
      "source": [
        "## **Load Tweet dataset download from https://www.kaggle.com/datasets/saurabhshahane/twitter-sentiment-dataset**"
      ],
      "metadata": {
        "id": "Xnn2-MxBjqSe"
      }
    },
    {
      "cell_type": "code",
      "source": [
        "#fill code\n",
        "df = pd.read_csv(\"/content/Twitter_Data.csv\")\n",
        "print(df.head())\n",
        "#Output the first five rows\n",
        "\n",
        "#fill code"
      ],
      "metadata": {
        "id": "XLnvmBOOfF_O",
        "outputId": "23913170-3e0c-4706-d014-574098e7097c",
        "colab": {
          "base_uri": "https://localhost:8080/"
        }
      },
      "execution_count": null,
      "outputs": [
        {
          "output_type": "stream",
          "name": "stdout",
          "text": [
            "                                          clean_text  category\n",
            "0  when modi promised “minimum government maximum...      -1.0\n",
            "1  talk all the nonsense and continue all the dra...       0.0\n",
            "2  what did just say vote for modi  welcome bjp t...       1.0\n",
            "3  asking his supporters prefix chowkidar their n...       1.0\n",
            "4  answer who among these the most powerful world...       1.0\n"
          ]
        }
      ]
    },
    {
      "cell_type": "code",
      "source": [
        "# The distribution of sentiments\n",
        "df.groupby('category').count().plot(kind='bar')"
      ],
      "metadata": {
        "id": "-jrfII7hfJMD",
        "outputId": "6545d912-09f7-423e-f6df-378da588fc12",
        "colab": {
          "base_uri": "https://localhost:8080/",
          "height": 479
        }
      },
      "execution_count": null,
      "outputs": [
        {
          "output_type": "execute_result",
          "data": {
            "text/plain": [
              "<Axes: xlabel='category'>"
            ]
          },
          "metadata": {},
          "execution_count": 8
        },
        {
          "output_type": "display_data",
          "data": {
            "text/plain": [
              "<Figure size 640x480 with 1 Axes>"
            ],
            "image/png": "[encoded data removed]"
          },
          "metadata": {}
        }
      ]
    },
    {
      "cell_type": "code",
      "source": [
        "# Map tweet categories\n",
        "df['category'] = df['category'].map({-1.0:'Negative', 0.0:'Neutral', 1.0:'Positive'})"
      ],
      "metadata": {
        "id": "jeTMVRzqfrP8"
      },
      "execution_count": null,
      "outputs": []
    },
    {
      "cell_type": "markdown",
      "source": [
        "# **Visualizing data into wordclouds**"
      ],
      "metadata": {
        "id": "vtlWD9OZkFFf"
      }
    },
    {
      "cell_type": "code",
      "source": [
        "from wordcloud import WordCloud, STOPWORDS\n",
        "\n",
        "#write code to generate the worldcloud\n",
        "\n",
        "def wordcount_gen(df, category):\n",
        "    '''\n",
        "    Generating Word Cloud\n",
        "    inputs:\n",
        "       - df: tweets dataset\n",
        "       - category: Positive/Negative/Neutral\n",
        "    '''\n",
        "    # Filter tweets for the given category\n",
        "    category_tweets = df[df['category'] == category]['clean_text']\n",
        "\n",
        "    # Concatenate all the tweets into a single string\n",
        "    all_tweets = ' '.join(category_tweets)\n",
        "\n",
        "    # Check if there are tweets associated with the category\n",
        "    if not all_tweets:\n",
        "        print(f\"No tweets found for the category {category}.\")\n",
        "    else:\n",
        "        # Generate a Word Cloud\n",
        "        stopwords = set(STOPWORDS)\n",
        "        wordcloud = WordCloud(stopwords=stopwords, background_color='white', width=800, height=400).generate(all_tweets)\n",
        "\n",
        "        # Plot the Word Cloud\n",
        "        plt.figure(figsize=(10, 5))\n",
        "        plt.imshow(wordcloud, interpolation='bilinear')\n",
        "        plt.axis('off')\n",
        "        plt.title(f'Word Cloud for {category} Tweets', fontsize=16)\n",
        "        plt.show()\n",
        "\n",
        "# Plot the distribution of sentiments\n",
        "df.groupby('category').count().plot(kind='bar')\n"
      ],
      "metadata": {
        "id": "5mTPDnwvffJi",
        "outputId": "f04a30df-1b36-4f2d-9195-27888f4e56f7",
        "colab": {
          "base_uri": "https://localhost:8080/",
          "height": 515
        }
      },
      "execution_count": null,
      "outputs": [
        {
          "output_type": "execute_result",
          "data": {
            "text/plain": [
              "<Axes: xlabel='category'>"
            ]
          },
          "metadata": {},
          "execution_count": 10
        },
        {
          "output_type": "display_data",
          "data": {
            "text/plain": [
              "<Figure size 640x480 with 1 Axes>"
            ],
            "image/png": "[encoded data removed]"
          },
          "metadata": {}
        }
      ]
    },
    {
      "cell_type": "code",
      "source": [
        "#Generate Positive tweet words cloud\n",
        "#fill code\n",
        "wordcount_gen(df, 1.0)"
      ],
      "metadata": {
        "id": "1VAaKOTyhQJG",
        "outputId": "4dbfad32-7e54-40f0-b620-2f23aa5bd6a6",
        "colab": {
          "base_uri": "https://localhost:8080/"
        }
      },
      "execution_count": null,
      "outputs": [
        {
          "output_type": "stream",
          "name": "stdout",
          "text": [
            "No tweets found for the category 1.0.\n"
          ]
        }
      ]
    },
    {
      "cell_type": "code",
      "source": [
        "#Generate Negative tweet words cloud\n",
        "#fill code\n",
        "wordcount_gen(df, -1.0)\n"
      ],
      "metadata": {
        "id": "E-WWcgeHhVnh",
        "outputId": "3f6bd54c-6d38-4fe9-a19d-d032e07d515a",
        "colab": {
          "base_uri": "https://localhost:8080/"
        }
      },
      "execution_count": null,
      "outputs": [
        {
          "output_type": "stream",
          "name": "stdout",
          "text": [
            "No tweets found for the category -1.0.\n"
          ]
        }
      ]
    },
    {
      "cell_type": "code",
      "source": [
        "#Generate Neutral tweet words cloud\n",
        "\n",
        "#fill code\n",
        "wordcount_gen(df, 0.0)"
      ],
      "metadata": {
        "id": "ntC1-lODhXLl",
        "outputId": "0f60e6f2-551e-4e6e-c7d6-87aa55f5b6f4",
        "colab": {
          "base_uri": "https://localhost:8080/"
        }
      },
      "execution_count": null,
      "outputs": [
        {
          "output_type": "stream",
          "name": "stdout",
          "text": [
            "No tweets found for the category 0.0.\n"
          ]
        }
      ]
    },
    {
      "cell_type": "markdown",
      "source": [
        "# **Cleaning the tweets using RegEx and NLTK**"
      ],
      "metadata": {
        "id": "A-fQQ1sVkTj3"
      }
    },
    {
      "cell_type": "code",
      "source": [
        "#fill code to return the cleaned tweet using RegEx and NLTK\n",
        "def tweet_to_words(tweet):\n",
        "    ''' Convert tweet text into a sequence of words '''\n",
        "    # Remove non-letter characters using RegEx and convert to lowercase\n",
        "    tweet = re.sub(\"[^a-zA-Z]\", \" \", tweet).lower()\n",
        "\n",
        "    # Tokenize the text into words\n",
        "    words = tweet.split()\n",
        "\n",
        "    # Remove stopwords using NLTK\n",
        "    stop_words = set(stopwords.words(\"english\"))\n",
        "    words = [word for word in words if word not in stop_words]\n",
        "\n",
        "    # Perform stemming using NLTK\n",
        "    stemmer = PorterStemmer()\n",
        "    words = [stemmer.stem(word) for word in words]\n",
        "\n",
        "    # Join the processed words back into a string\n",
        "    processed_tweet = \" \".join(words)\n",
        "    return processed_tweet\n",
        "\n",
        "# Test the function\n",
        "print(\"\\nOriginal tweet ->\", df['clean_text'][0])\n",
        "print(\"\\nProcessed tweet ->\", tweet_to_words(df['clean_text'][0]))"
      ],
      "metadata": {
        "id": "ih8YnBPafscw",
        "outputId": "42852a34-c4a8-4fa3-93b4-976943bba651",
        "colab": {
          "base_uri": "https://localhost:8080/"
        }
      },
      "execution_count": null,
      "outputs": [
        {
          "output_type": "stream",
          "name": "stdout",
          "text": [
            "\n",
            "Original tweet -> when modi promised “minimum government maximum governance” expected him begin the difficult job reforming the state why does take years get justice state should and not business and should exit psus and temples\n",
            "\n",
            "Processed tweet -> modi promis minimum govern maximum govern expect begin difficult job reform state take year get justic state busi exit psu templ\n"
          ]
        }
      ]
    },
    {
      "cell_type": "code",
      "source": [
        "# Apply data processing to each tweet\n",
        "from sklearn.preprocessing import LabelEncoder\n",
        "# Fill missing values (NaN) in the 'clean_text' column with an empty string\n",
        "df['clean_text'].fillna('', inplace=True)\n",
        "\n",
        "# Encode target labels using scikit learn\n",
        "label_encoder = LabelEncoder()\n",
        "df['category_encoded'] = label_encoder.fit_transform(df['category'])\n",
        "\n",
        "# Output the first five rows with cleaned text and encoded category\n",
        "print(df[['clean_text', 'category', 'category_encoded']].head())\n",
        "\n",
        "#fill code\n",
        "\n",
        "\n"
      ],
      "metadata": {
        "id": "J9UeUfvTfxb0",
        "outputId": "b2ec257b-014c-41ef-b178-b11f83ddf217",
        "colab": {
          "base_uri": "https://localhost:8080/"
        }
      },
      "execution_count": null,
      "outputs": [
        {
          "output_type": "stream",
          "name": "stdout",
          "text": [
            "                                          clean_text  category  \\\n",
            "0  when modi promised “minimum government maximum...  Negative   \n",
            "1  talk all the nonsense and continue all the dra...   Neutral   \n",
            "2  what did just say vote for modi  welcome bjp t...  Positive   \n",
            "3  asking his supporters prefix chowkidar their n...  Positive   \n",
            "4  answer who among these the most powerful world...  Positive   \n",
            "\n",
            "   category_encoded  \n",
            "0                 0  \n",
            "1                 1  \n",
            "2                 2  \n",
            "3                 2  \n",
            "4                 2  \n"
          ]
        }
      ]
    },
    {
      "cell_type": "code",
      "source": [
        "#train test splitting using scikit learn\n",
        "y = pd.get_dummies(df['category'])\n",
        "#fill code\n",
        "# Split the data into features (X) and target (y)\n",
        "X = df['clean_text']\n",
        "y = df['category_encoded']\n",
        "\n",
        "# Split the data into training and testing sets\n",
        "X_train, X_test, y_train, y_test = train_test_split(X, y, test_size=0.2, random_state=42)\n",
        "\n",
        "# Output the shapes of the training and testing sets\n",
        "print(\"X_train shape:\", X_train.shape)\n",
        "print(\"X_test shape:\", X_test.shape)\n",
        "print(\"y_train shape:\", y_train.shape)\n",
        "print(\"y_test shape:\", y_test.shape)"
      ],
      "metadata": {
        "id": "8xg66BEHf219",
        "outputId": "74ca9f6e-bfba-4f69-ea94-ed5d803556e3",
        "colab": {
          "base_uri": "https://localhost:8080/"
        }
      },
      "execution_count": null,
      "outputs": [
        {
          "output_type": "stream",
          "name": "stdout",
          "text": [
            "X_train shape: (130384,)\n",
            "X_test shape: (32596,)\n",
            "y_train shape: (130384,)\n",
            "y_test shape: (32596,)\n"
          ]
        }
      ]
    },
    {
      "cell_type": "markdown",
      "source": [
        "#**Train Test Split for training the Regression model**"
      ],
      "metadata": {
        "id": "9g6g6tWekhlV"
      }
    },
    {
      "cell_type": "code",
      "source": [
        "#Transform the training and testing data using countvectorizer\n",
        "\n",
        "#fill code\n",
        "# Create an instance of CountVectorizer\n",
        "vectorizer = CountVectorizer()\n",
        "\n",
        "# Fit and transform the training data\n",
        "X_train_vectorized = vectorizer.fit_transform(X_train)\n",
        "\n",
        "# Transform the testing data\n",
        "X_test_vectorized = vectorizer.transform(X_test)\n",
        "\n",
        "# Output the shape of the vectorized data\n",
        "print(\"X_train_vectorized shape:\", X_train_vectorized.shape)\n",
        "print(\"X_test_vectorized shape:\", X_test_vectorized.shape)\n",
        "\n",
        "\n",
        "\n",
        "\n",
        "\n",
        "#fill code\n",
        "\n",
        "\n",
        "\n"
      ],
      "metadata": {
        "id": "bi1Zr9PZf-M1",
        "outputId": "014bf837-a525-499d-f53b-672267f79ab6",
        "colab": {
          "base_uri": "https://localhost:8080/"
        }
      },
      "execution_count": null,
      "outputs": [
        {
          "output_type": "stream",
          "name": "stdout",
          "text": [
            "X_train_vectorized shape: (130384, 92855)\n",
            "X_test_vectorized shape: (32596, 92855)\n"
          ]
        }
      ]
    },
    {
      "cell_type": "code",
      "source": [
        "#train multivariate logistic regression on the data using scikit learn\n",
        "\n",
        "#fill code\n",
        "# Create an instance of LogisticRegression\n",
        "logreg_model = LogisticRegression()\n",
        "\n",
        "# Fit the model to the training data\n",
        "logreg_model.fit(X_train_vectorized, y_train)\n",
        "\n",
        "# Predict on the testing data\n",
        "y_pred = logreg_model.predict(X_test_vectorized)\n",
        "\n",
        "# Output the accuracy of the model\n",
        "accuracy = (y_pred == y_test).mean()\n",
        "print(\"Accuracy:\", accuracy)\n",
        "\n",
        "\n",
        "\n",
        "\n",
        "\n",
        "#fill code\n",
        "\n",
        "\n",
        "\n",
        "\n",
        "\n"
      ],
      "metadata": {
        "id": "ag1X9TU-gBKM",
        "outputId": "3ad7d5e3-e74b-4649-f3b6-d054aa97d1a8",
        "colab": {
          "base_uri": "https://localhost:8080/"
        }
      },
      "execution_count": null,
      "outputs": [
        {
          "output_type": "stream",
          "name": "stdout",
          "text": [
            "Accuracy: 0.9455761443121855\n"
          ]
        },
        {
          "output_type": "stream",
          "name": "stderr",
          "text": [
            "/usr/local/lib/python3.10/dist-packages/sklearn/linear_model/_logistic.py:458: ConvergenceWarning: lbfgs failed to converge (status=1):\n",
            "STOP: TOTAL NO. of ITERATIONS REACHED LIMIT.\n",
            "\n",
            "Increase the number of iterations (max_iter) or scale the data as shown in:\n",
            "    https://scikit-learn.org/stable/modules/preprocessing.html\n",
            "Please also refer to the documentation for alternative solver options:\n",
            "    https://scikit-learn.org/stable/modules/linear_model.html#logistic-regression\n",
            "  n_iter_i = _check_optimize_result(\n"
          ]
        }
      ]
    },
    {
      "cell_type": "code",
      "source": [
        "#predict using your model on the testing dataset\n",
        "\n",
        "#fill code\n",
        "print(\"Predicted values:\", y_pred)\n",
        "\n",
        "\n",
        "\n",
        "\n",
        "\n",
        "#fill code\n",
        "\n"
      ],
      "metadata": {
        "id": "6COHQTxji0KX",
        "outputId": "08e93152-a946-4e09-c11a-9c13f2c263a1",
        "colab": {
          "base_uri": "https://localhost:8080/"
        }
      },
      "execution_count": null,
      "outputs": [
        {
          "output_type": "stream",
          "name": "stdout",
          "text": [
            "Predicted values: [1 1 2 ... 2 0 1]\n"
          ]
        }
      ]
    },
    {
      "cell_type": "markdown",
      "source": [
        "# **Analysing the Results**"
      ],
      "metadata": {
        "id": "_WKYYr6Dk0Bz"
      }
    },
    {
      "cell_type": "code",
      "source": [
        "#Calculate and plot the Confusion matrix\n",
        "\n",
        "conf_matrix = confusion_matrix(y_test, y_pred)\n",
        "\n",
        "# Plot the confusion matrix using a heatmap\n",
        "plt.figure(figsize=(8, 6))\n",
        "sns.heatmap(conf_matrix, annot=True, fmt=\"d\", cmap=\"Blues\", xticklabels=label_encoder.classes_, yticklabels=label_encoder.classes_)\n",
        "plt.xlabel('Predicted Label')\n",
        "plt.ylabel('True Label')\n",
        "plt.title('Confusion Matrix')\n",
        "plt.show()\n",
        "#fill code\n",
        "\n",
        "\n",
        "\n",
        "\n",
        "\n",
        "\n",
        "\n",
        "#fill code\n",
        "\n"
      ],
      "metadata": {
        "id": "XX0aak2dhp3M",
        "outputId": "2b1c0ed2-6817-45ab-a548-c64d6bfa16af",
        "colab": {
          "base_uri": "https://localhost:8080/",
          "height": 564
        }
      },
      "execution_count": null,
      "outputs": [
        {
          "output_type": "display_data",
          "data": {
            "text/plain": [
              "<Figure size 800x600 with 2 Axes>"
            ],
            "image/png": "[encoded data removed]"
          },
          "metadata": {}
        }
      ]
    },
    {
      "cell_type": "code",
      "source": [
        "#calculate the precision , recall and accuracy using scikit learn\n",
        "\n",
        "#fill code\n",
        "precision = precision_score(y_test, y_pred, average='weighted')\n",
        "recall = recall_score(y_test, y_pred, average='weighted')\n",
        "accuracy = accuracy_score(y_test, y_pred)\n",
        "\n",
        "print(\"Precision:\", precision)\n",
        "print(\"Recall:\", recall)\n",
        "print(\"Accuracy:\", accuracy)\n",
        "\n",
        "\n",
        "\n",
        "\n",
        "\n",
        "\n",
        "\n",
        "#fill code\n",
        "\n",
        "\n",
        "\n"
      ],
      "metadata": {
        "id": "-66eNzzphv5i",
        "outputId": "7ec192d1-2f41-446a-fd66-10b02f204860",
        "colab": {
          "base_uri": "https://localhost:8080/"
        }
      },
      "execution_count": null,
      "outputs": [
        {
          "output_type": "stream",
          "name": "stdout",
          "text": [
            "Precision: 0.945263896287228\n",
            "Recall: 0.9455761443121855\n",
            "Accuracy: 0.9455761443121855\n"
          ]
        }
      ]
    },
    {
      "cell_type": "markdown",
      "source": [
        "Hope You Learnt the techniques for sentiment analysis , remember this is just the tip of the iceberg, there is alot to learn.. so keep learning... keep growing :) ."
      ],
      "metadata": {
        "id": "_gRNDuL5k4j8"
      }
    }
  ]
}